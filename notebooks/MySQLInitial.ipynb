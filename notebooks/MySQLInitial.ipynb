{
 "cells": [
  {
   "cell_type": "markdown",
   "metadata": {},
   "source": [
    "## MySQL Initial\n",
    "This notebook is for initial MySQL Database / MariaDB Database Connection like Connection Checking, Table Creating"
   ]
  },
  {
   "cell_type": "code",
   "execution_count": 7,
   "metadata": {},
   "outputs": [],
   "source": [
    "import mysql.connector\n",
    "import os"
   ]
  },
  {
   "cell_type": "markdown",
   "metadata": {},
   "source": [
    "Get Environment Variable"
   ]
  },
  {
   "cell_type": "code",
   "execution_count": 8,
   "metadata": {},
   "outputs": [
    {
     "name": "stdout",
     "output_type": "stream",
     "text": [
      "MySQL Host localhost\n"
     ]
    }
   ],
   "source": [
    "HOST_URL = os.getenv('MYSQL_HOST')\n",
    "MYSQL_PASSWORD = os.getenv('MYSQL_PASSWORD')\n",
    "MYSQL_USER = os.getenv('MYSQL_USER')\n",
    "MYSQL_DATABASE = os.getenv('MYSQL_DATABASE')\n",
    "MYSQL_TABLE_NAME = os.getenv('MYSQL_TABLE_NAME')\n",
    "\n",
    "print('MySQL Host',HOST_URL)"
   ]
  },
  {
   "cell_type": "markdown",
   "metadata": {},
   "source": [
    "Connect and Test Connection"
   ]
  },
  {
   "cell_type": "code",
   "execution_count": 9,
   "metadata": {},
   "outputs": [
    {
     "name": "stdout",
     "output_type": "stream",
     "text": [
      "Connect Successfully\n"
     ]
    }
   ],
   "source": [
    "db = mysql.connector.connect(\n",
    "    host=HOST_URL, user=MYSQL_USER, password=MYSQL_PASSWORD, database=MYSQL_DATABASE\n",
    ")\n",
    "\n",
    "if not(db.is_connected):\n",
    "    print('Fail to Connect')\n",
    "else:\n",
    "    print('Connect Successfully')"
   ]
  },
  {
   "cell_type": "markdown",
   "metadata": {},
   "source": [
    "Create Data Table"
   ]
  },
  {
   "cell_type": "code",
   "execution_count": 14,
   "metadata": {},
   "outputs": [],
   "source": [
    "create_table_script = f\"\"\"\n",
    "    CREATE TABLE IF NOT EXISTS {MYSQL_TABLE_NAME} (\n",
    "        id INT(8) NOT NULL PRIMARY KEY AUTO_INCREMENT,\n",
    "        running_number VARCHAR(128),\n",
    "        transaction_ref_id VARCHAR(256),\n",
    "        transaction_type VARCHAR(36),\n",
    "        transaction_dir TINYINT(1),\n",
    "        employee_id VARCHAR(256),\n",
    "        employee_firstname VARCHAR(128),\n",
    "        employee_lastname VARCHAR(128),\n",
    "        process_id VARCHAR(256),\n",
    "        step_id VARCHAR(256),\n",
    "        step_name VARCHAR(128),\n",
    "        step_index INT(8),\n",
    "        material_id VARCHAR(256),\n",
    "        material_type_code VARCHAR(256),\n",
    "        material_name VARCHAR(256),\n",
    "        manufacturing_order_id VARCHAR(256),\n",
    "        begin FLOAT(16),\n",
    "        quantity FLOAT(16),\n",
    "        amount FLOAT(16),\n",
    "        updated_at TIMESTAMP\n",
    "    )\n",
    "\"\"\""
   ]
  },
  {
   "cell_type": "code",
   "execution_count": 15,
   "metadata": {},
   "outputs": [
    {
     "name": "stdout",
     "output_type": "stream",
     "text": [
      "Create Table Success\n"
     ]
    }
   ],
   "source": [
    "cursor = db.cursor()\n",
    "cursor.execute(create_table_script)\n",
    "print('Create Table Success')"
   ]
  }
 ],
 "metadata": {
  "kernelspec": {
   "display_name": "Python 3",
   "language": "python",
   "name": "python3"
  },
  "language_info": {
   "codemirror_mode": {
    "name": "ipython",
    "version": 3
   },
   "file_extension": ".py",
   "mimetype": "text/x-python",
   "name": "python",
   "nbconvert_exporter": "python",
   "pygments_lexer": "ipython3",
   "version": "3.10.6 (tags/v3.10.6:9c7b4bd, Aug  1 2022, 21:53:49) [MSC v.1932 64 bit (AMD64)]"
  },
  "orig_nbformat": 4,
  "vscode": {
   "interpreter": {
    "hash": "fdafa191d1c6fcde0f0a19f1b94430271bf5374c13f885e36e4e8d098f4932a4"
   }
  }
 },
 "nbformat": 4,
 "nbformat_minor": 2
}
